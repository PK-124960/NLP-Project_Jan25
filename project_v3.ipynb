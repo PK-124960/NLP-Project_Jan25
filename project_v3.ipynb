{
 "cells": [
  {
   "cell_type": "markdown",
   "id": "dd2b79a6",
   "metadata": {},
   "source": [
    "## Experiment 1"
   ]
  },
  {
   "cell_type": "code",
   "execution_count": null,
   "id": "c085c54f",
   "metadata": {},
   "outputs": [],
   "source": [
    "# CUDA check\n",
    "import torch\n",
    "print(torch.cuda.is_available())"
   ]
  },
  {
   "cell_type": "markdown",
   "id": "ebca09a8",
   "metadata": {},
   "source": [
    "### Custom Tokenizer creation"
   ]
  },
  {
   "cell_type": "code",
   "execution_count": null,
   "id": "87f25520",
   "metadata": {},
   "outputs": [],
   "source": [
    "from transformers import AutoTokenizer\n",
    "import pandas as pd\n",
    "import os\n",
    "\n",
    "# Load Base Tokenizer\n",
    "base_model_path = \"pythainlp/wangchanglm-7.5B-sft-enth\" \n",
    "print(\"Loading base tokenizer...\")\n",
    "tokenizer = AutoTokenizer.from_pretrained(base_model_path)"
   ]
  },
  {
   "cell_type": "markdown",
   "id": "cb1436ac",
   "metadata": {},
   "source": [
    "#### custum words"
   ]
  },
  {
   "cell_type": "code",
   "execution_count": null,
   "id": "0528d081",
   "metadata": {},
   "outputs": [],
   "source": [
    "# read the old file\n",
    "with open(\"custom_vocab_5w1h.txt\", \"r\", encoding=\"utf-8\") as file:\n",
    "    lines = file.readlines()\n",
    "\n",
    "# delete duplicated words and rearrange\n",
    "unique_lines = sorted(set(line.strip() for line in lines if line.strip()))\n",
    "\n",
    "print(\"\\n----- words after preprocessing -----\")\n",
    "for line in unique_lines:\n",
    "    print(line)"
   ]
  },
  {
   "cell_type": "code",
   "execution_count": null,
   "id": "8f6a4b0f",
   "metadata": {},
   "outputs": [],
   "source": [
    "# save file\n",
    "with open(\"custom_vocab_5w1h.txt\", \"w\", encoding=\"utf-8\") as file:\n",
    "    for line in unique_lines:\n",
    "        file.write(line + \"\\n\")\n",
    "\n",
    "print(\"\\nNew words saved\")"
   ]
  },
  {
   "cell_type": "code",
   "execution_count": null,
   "id": "0dc615c0",
   "metadata": {},
   "outputs": [],
   "source": [
    "# load new words\n",
    "with open(\"custom_vocab_5w1h.txt\", \"r\", encoding=\"utf-8\") as f:\n",
    "    custom_tokens = [line.strip() for line in f.readlines() if line.strip()]\n",
    "\n",
    "# add new words to tokenizer\n",
    "num_added = tokenizer.add_tokens(custom_tokens)\n",
    "print(f\"✅ Added {num_added} new tokens.\")\n",
    "\n",
    "# save new tokenizer \n",
    "tokenizer.save_pretrained(\"custom_tokenizer_5w1h\")"
   ]
  },
  {
   "cell_type": "markdown",
   "id": "353ab283",
   "metadata": {},
   "source": [
    "### Step0: Load dataset "
   ]
  },
  {
   "cell_type": "code",
   "execution_count": null,
   "id": "01724284",
   "metadata": {},
   "outputs": [],
   "source": [
    "import pandas as pd\n",
    "\n",
    "df = pd.read_csv(\"Updated_Datasets.csv\")\n",
    "df.head(5)"
   ]
  },
  {
   "cell_type": "markdown",
   "id": "cbe2dd40",
   "metadata": {},
   "source": [
    "### Step1: Load Custom Tokenizer"
   ]
  },
  {
   "cell_type": "code",
   "execution_count": null,
   "id": "8c4f2992",
   "metadata": {},
   "outputs": [],
   "source": [
    "from transformers import AutoTokenizer\n",
    "\n",
    "# ✅ Load Custom Tokenizer\n",
    "tokenizer_path = \"./custom_tokenizer_5w1h\" \n",
    "tokenizer = AutoTokenizer.from_pretrained(tokenizer_path)\n",
    "\n",
    "print(\"Custom Tokenizer loaded successfully.\")\n",
    "print(\"Vocab size:\", len(tokenizer))\n"
   ]
  },
  {
   "cell_type": "markdown",
   "id": "5aed3ddf",
   "metadata": {},
   "source": [
    "#### Tokenization Test"
   ]
  },
  {
   "cell_type": "code",
   "execution_count": null,
   "id": "b63f6954",
   "metadata": {},
   "outputs": [],
   "source": [
    "def tokenize_and_check(text):\n",
    "    if not isinstance(text, str):\n",
    "        return None  # หรือ จะ return {\"original_text\": None, \"tokens\": [], \"num_tokens\": 0} ก็ได้\n",
    "    encoding = tokenizer(text, add_special_tokens=False, return_tensors=None)\n",
    "    token_ids = encoding['input_ids']\n",
    "    tokens = tokenizer.convert_ids_to_tokens(token_ids)\n",
    "    return {\n",
    "        \"original_text\": text,\n",
    "        \"tokens\": tokens,\n",
    "        \"num_tokens\": len(tokens)\n",
    "    }\n"
   ]
  },
  {
   "cell_type": "code",
   "execution_count": null,
   "id": "d87e8096",
   "metadata": {},
   "outputs": [],
   "source": [
    "# Tokenize using Custom Tokenizer\n",
    "def tokenize_and_check(text):\n",
    "    if not isinstance(text, str):\n",
    "        return None  # หรือ จะ return {\"original_text\": None, \"tokens\": [], \"num_tokens\": 0} ก็ได้\n",
    "    encoding = tokenizer(text, add_special_tokens=False, return_tensors=None)\n",
    "    token_ids = encoding['input_ids']\n",
    "    tokens = tokenizer.convert_ids_to_tokens(token_ids)\n",
    "    return {\n",
    "        \"original_text\": text,\n",
    "        \"tokens\": tokens,\n",
    "        \"num_tokens\": len(tokens)\n",
    "    }\n",
    "\n",
    "tokenized_results_input1 = df['Input_Sec1'].apply(tokenize_and_check)\n",
    "\n",
    "for idx, result in enumerate(tokenized_results_input1):\n",
    "    print(f\"\\n==== Record {idx+1} ====\")\n",
    "    print(f\"Original Text: {result['original_text'][:]}\")  \n",
    "    print(f\"Number of Tokens: {result['num_tokens']}\")\n",
    "    print(f\"Tokens: {result['tokens']}\")\n",
    "    if idx >= 2:\n",
    "        break"
   ]
  },
  {
   "cell_type": "code",
   "execution_count": null,
   "id": "a02fea61",
   "metadata": {},
   "outputs": [],
   "source": [
    "tokenized_results_input2 = df['Input_Sec2'].apply(tokenize_and_check)\n",
    "\n",
    "for idx, result in enumerate(tokenized_results_input2):\n",
    "    print(f\"\\n==== Record {idx+1} ====\")\n",
    "    print(f\"Original Text: {result['original_text'][:]}\")  \n",
    "    print(f\"Number of Tokens: {result['num_tokens']}\")\n",
    "    print(f\"Tokens: {result['tokens']}\")\n",
    "    if idx >= 2:\n",
    "        break"
   ]
  },
  {
   "cell_type": "markdown",
   "id": "973e7675",
   "metadata": {},
   "source": [
    "### Step 2: Preprocessing"
   ]
  },
  {
   "cell_type": "code",
   "execution_count": null,
   "id": "380a3ca2",
   "metadata": {},
   "outputs": [],
   "source": [
    "import re\n",
    "\n",
    "def preprocess_text(text):\n",
    "    # ตัดแบ่งประโยคเบื้องต้น (จุด, เว้นวรรค)\n",
    "    sentences = re.split(r'(?<=[.])\\s+', text)\n",
    "    sentences = [s.strip() for s in sentences if s.strip()]\n",
    "    \n",
    "    # Boost Formality เล็กน้อย: แก้คำไม่เป็นทางการ (ตัวอย่าง)\n",
    "    replacements = {\n",
    "        \"ช่วย\": \"กรุณา\",\n",
    "        \"ดูแล\": \"ดำเนินการตรวจสอบ\",\n",
    "        \"ดู\": \"ตรวจสอบ\",\n",
    "        \"บอก\": \"แจ้ง\",\n",
    "        \"ให้\": \"อนุเคราะห์\",\n",
    "    }\n",
    "    boosted_sentences = []\n",
    "    for sentence in sentences:\n",
    "        for informal, formal in replacements.items():\n",
    "            sentence = re.sub(rf'\\b{informal}\\b', formal, sentence)\n",
    "        boosted_sentences.append(sentence)\n",
    "    \n",
    "    return \" \".join(boosted_sentences)\n",
    "\n",
    "df['Input_Sec1'] = df['Input_Sec1'].apply(preprocess_text)\n",
    "\n",
    "for idx, row in df.iterrows():\n",
    "    print(f\"\\n🧹 ตัวอย่าง Record {idx+1}\")\n",
    "    # print(f\"Original Text:\\n{row['combined_input'][:300]}...\\n\")\n",
    "    print(f\"Preprocessed Text:\\n{row['Input_Sec1'][:300]}...\")\n",
    "    if idx >= 2:\n",
    "        break"
   ]
  },
  {
   "cell_type": "code",
   "execution_count": null,
   "id": "1548bcfe",
   "metadata": {},
   "outputs": [],
   "source": [
    "df['Input_Sec2'] = df['Input_Sec2'].apply(preprocess_text)\n",
    "\n",
    "for idx, row in df.iterrows():\n",
    "    print(f\"\\n🧹 ตัวอย่าง Record {idx+1}\")\n",
    "    # print(f\"Original Text:\\n{row['combined_input'][:300]}...\\n\")\n",
    "    print(f\"Preprocessed Text:\\n{row['Input_Sec2'][:300]}...\")\n",
    "    if idx >= 2:\n",
    "        break"
   ]
  },
  {
   "cell_type": "markdown",
   "id": "41378236",
   "metadata": {},
   "source": [
    "#### Filtering"
   ]
  },
  {
   "cell_type": "code",
   "execution_count": null,
   "id": "325b5dc4",
   "metadata": {},
   "outputs": [],
   "source": [
    "import re\n",
    "\n",
    "# Expand abbreviation function\n",
    "def expand_abbreviations(text, abbreviation_dict):\n",
    "    for abbr, full_name in abbreviation_dict.items():\n",
    "        pattern = r'\\b' + re.escape(abbr) + r'\\b'\n",
    "        text = re.sub(pattern, f\"{full_name} ({abbr})\", text)\n",
    "    return text\n",
    "\n",
    "# Example abbreviation dictionary\n",
    "abbreviation_dict = {\n",
    "    \"ก.ค.\": \"กรกฎาคม\",\n",
    "    \"ก.พ.\": \"กุมภาพันธ์\",\n",
    "    \"ก.ย.\": \"กันยายน\",\n",
    "    \"กกท.ศทท.สส.ทหาร\": \"กองการโทรคมนาคม ศูนย์การโทรคมนาคมทหาร กรมการสื่อสารทหาร\",\n",
    "    \"กกล.บก.สปท.\": \"กองกลาง กองบัญชาการ สถาบันวิชาการป้องกันประเทศ\",\n",
    "    \"กขส.ยบ.ทหาร\": \"กองขนส่ง ยุทธบริการทหาร\",\n",
    "    \"กตป.สปช.ทหาร\": \"กองติดตามและประเมินผล สำนักงานปลัดบัญชีทหาร\",\n",
    "    \"กตส.สตป.\": \"กองตรวจสอบ สำนักงานตรวจสอบภายใน\",\n",
    "    \"กทด.บก.สปท.\": \"กองทดสอบ กองบัญชาการ สถาบันวิชาการป้องกันประเทศ\",\n",
    "    \"กทพ.กพ.ทหาร\": \"กองทัพพิเศษ กองกำลังพลทหาร\",\n",
    "    \"กนผ.กร.ทหาร\": \"กองนโยบายและแผน กรมกิจการพลเรือนหาร\",\n",
    "    \"กนผ.สนพ.กพ.ทหาร\": \"กองนโยบายและแผน สำนักงานนโยบายและแผน กองกำลังพลทหาร\",\n",
    "    \"กพ.ทหาร\": \"กองกำลังพลทหาร\",\n",
    "    \"กมศ.บก.สปท.\": \"กองมาตรฐานการศึกษา กองบัญชาการ สถาบันวิชาการป้องกันประเทศ\",\n",
    "    \"กร.ทหาร\": \"กรมกิจการพลเรือนทหาร\",\n",
    "    \"สบ.ทหาร\": \"กรมสารบรรณทหาร\",\n",
    "}\n"
   ]
  },
  {
   "cell_type": "code",
   "execution_count": null,
   "id": "a6c5c52d",
   "metadata": {},
   "outputs": [],
   "source": [
    "# ขยายตัวย่อ\n",
    "df['Input_Sec2'] = df['Input_Sec2'].apply(lambda x: expand_abbreviations(x, abbreviation_dict))\n",
    "df['Input_Sec1'] = df['Input_Sec1'].apply(lambda x: expand_abbreviations(x, abbreviation_dict))"
   ]
  },
  {
   "cell_type": "code",
   "execution_count": null,
   "id": "38377429",
   "metadata": {},
   "outputs": [],
   "source": [
    "def create_prompt_fewshot(input_sec2, input_sec1):\n",
    "    prompt = f\"\"\"\n",
    "    คุณคือผู้ช่วยสรุปหนังสือราชการ\n",
    "    ให้อ่านข้อมูลที่กำหนด และสรุปเนื้อหาอย่างกระชับ ชัดเจน และเป็นภาษาทางการ\n",
    "    ห้ามแต่งข้อมูลเพิ่มจากที่กำหนด\n",
    "    ให้นำเสนอเป็นข้อความย่อความเท่านั้น ไม่ต้องจัดหมวดหมู่ ไม่ต้องตอบเป็น JSON\n",
    "\n",
    "    ข้อความใหม่สำหรับสกัด:\n",
    "    \\\"\\\"\\\"{input_sec2}\\\"\\\"\\\"\n",
    "\n",
    "    เหตุผลเบื้องหลัง:\n",
    "    \\\"\\\"\\\"{input_sec1}\\\"\\\"\\\"\n",
    "\n",
    "    โปรดตอบเฉพาะสรุปข้อความย่อเป็นภาษาไทยเท่านั้น\n",
    "    \"\"\"\n",
    "    return prompt\n"
   ]
  },
  {
   "cell_type": "markdown",
   "id": "4201f696",
   "metadata": {},
   "source": [
    "### Step 3: Experiment"
   ]
  },
  {
   "cell_type": "markdown",
   "id": "a8e72314",
   "metadata": {},
   "source": [
    "#### Abstractive Mode: Ollama"
   ]
  },
  {
   "cell_type": "code",
   "execution_count": null,
   "id": "bee8c78f",
   "metadata": {},
   "outputs": [],
   "source": [
    "# Config สำหรับ Ollama\n",
    "Ollama_API_URL = \"http://localhost:11434/api/chat\"\n",
    "Ollama_Model_Name = \"wangchanglm\""
   ]
  },
  {
   "cell_type": "code",
   "execution_count": null,
   "id": "6cacc9fa",
   "metadata": {},
   "outputs": [],
   "source": [
    "import requests\n",
    "\n",
    "def query_ollama_chat(prompt):\n",
    "    payload = {\n",
    "        \"model\": Ollama_Model_Name,\n",
    "        \"messages\": [{\"role\": \"user\", \"content\": prompt}],\n",
    "        \"stream\": False\n",
    "    }\n",
    "    try:\n",
    "        response = requests.post(Ollama_API_URL, json=payload, timeout=120)\n",
    "        response.raise_for_status()\n",
    "        result = response.json()\n",
    "        return result['message']['content']\n",
    "    except Exception as e:\n",
    "        print(f\"⚠️ Error calling Ollama: {e}\")\n",
    "        return None\n"
   ]
  },
  {
   "cell_type": "markdown",
   "id": "2fa21fee",
   "metadata": {},
   "source": [
    "#### Extractive Mode"
   ]
  },
  {
   "cell_type": "code",
   "execution_count": null,
   "id": "02945afd",
   "metadata": {},
   "outputs": [],
   "source": [
    "from transformers import AutoModel\n",
    "\n",
    "# Config WangchanBERTa (สำหรับ extractive)\n",
    "model_name = \"airesearch/wangchanberta-base-att-spm-uncased\"\n",
    "tokenizer = AutoTokenizer.from_pretrained(model_name)\n",
    "model = AutoModel.from_pretrained(model_name)\n",
    "\n",
    "device = torch.device(\"cuda\" if torch.cuda.is_available() else \"cpu\")\n",
    "model = model.to(device)"
   ]
  },
  {
   "cell_type": "code",
   "execution_count": null,
   "id": "d4d6b3e2",
   "metadata": {},
   "outputs": [],
   "source": [
    "def get_sentence_embedding(text):\n",
    "    inputs = tokenizer(text, return_tensors=\"pt\", truncation=True, padding=True).to(device)\n",
    "    with torch.no_grad():\n",
    "        outputs = model(**inputs)\n",
    "    return outputs.last_hidden_state[:, 0, :].cpu().numpy()"
   ]
  },
  {
   "cell_type": "code",
   "execution_count": null,
   "id": "a23fadee",
   "metadata": {},
   "outputs": [],
   "source": [
    "from sklearn.metrics.pairwise import cosine_similarity\n",
    "\n",
    "def extract_sentences(title, input_sec1, content, top_k=3):\n",
    "    if pd.isnull(title) or pd.isnull(content):\n",
    "        return \"\"\n",
    "    anchor_text = title + \" \" + input_sec1\n",
    "    sentences = re.split(r'(?<=[.!?])\\s+', content)\n",
    "    sentences = [s.strip() for s in sentences if s.strip()]\n",
    "    if not sentences:\n",
    "        return \"\"\n",
    "    anchor_emb = get_sentence_embedding(anchor_text)\n",
    "    sentence_embs = [get_sentence_embedding(sent) for sent in sentences]\n",
    "    sims = [cosine_similarity(anchor_emb, sent_emb)[0][0] for sent_emb in sentence_embs]\n",
    "    top_indices = sorted(range(len(sims)), key=lambda i: sims[i], reverse=True)[:top_k]\n",
    "    selected_sentences = [sentences[i] for i in top_indices]\n",
    "    return ' '.join(selected_sentences)"
   ]
  },
  {
   "cell_type": "code",
   "execution_count": null,
   "id": "e3185714",
   "metadata": {},
   "outputs": [],
   "source": [
    "from nltk.translate.bleu_score import sentence_bleu, SmoothingFunction\n",
    "from rouge_score import rouge_scorer\n",
    "\n",
    "def rouge_l_score(ref, pred):\n",
    "    scorer = rouge_scorer.RougeScorer(['rougeL'], use_stemmer=True)\n",
    "    return scorer.score(ref, pred)['rougeL'].fmeasure\n",
    "\n",
    "def bleu_score(ref, pred):\n",
    "    smoothie = SmoothingFunction().method4\n",
    "    return sentence_bleu([ref.split()], pred.split(), smoothing_function=smoothie)"
   ]
  },
  {
   "cell_type": "markdown",
   "id": "2e6d914b",
   "metadata": {},
   "source": [
    "#### Process"
   ]
  },
  {
   "cell_type": "code",
   "execution_count": null,
   "id": "c454fc3b",
   "metadata": {},
   "outputs": [],
   "source": [
    "# EXPERIMENT_MODE = [\"extractive\", \"abstractive\"]"
   ]
  },
  {
   "cell_type": "code",
   "execution_count": null,
   "id": "d0473662",
   "metadata": {},
   "outputs": [],
   "source": [
    "from tqdm import tqdm\n",
    "\n",
    "extractive_outputs = []\n",
    "abstractive_outputs = []\n",
    "human_outputs = df['Output_Sec1'].tolist()\n",
    "\n",
    "for idx, row in tqdm(df.iterrows(), total=len(df)):\n",
    "    title = row['Title']\n",
    "    input_sec1 = row['Input_Sec1']\n",
    "    input_sec2 = row['Input_Sec2']\n",
    "\n",
    "    # Extractive V2\n",
    "    extracted = extract_sentences(title, input_sec1, input_sec2)\n",
    "    extractive_outputs.append(extracted)\n",
    "\n",
    "    # Abstractive V2\n",
    "    input_sec2 = row['Input_Sec2']\n",
    "    prompt = create_prompt_fewshot(input_sec2, input_sec1)\n",
    "    # prompt = create_prompt_abstractive(input_sec2)\n",
    "    summary = query_ollama_chat(prompt)\n",
    "    if summary:\n",
    "        abstractive_outputs.append(summary)\n",
    "    else:\n",
    "        abstractive_outputs.append(\"\")\n",
    "\n",
    "    # # Abstractive V2.1\n",
    "    # summary = generate_summary_openthaigpt(input_sec2)\n",
    "    # abstractive_outputs.append(summary)\n"
   ]
  },
  {
   "cell_type": "markdown",
   "id": "e53edad4",
   "metadata": {},
   "source": [
    "### Step5: Evaluation"
   ]
  },
  {
   "cell_type": "code",
   "execution_count": null,
   "id": "2d64d7a7",
   "metadata": {},
   "outputs": [],
   "source": [
    "from tqdm import tqdm\n",
    "from sentence_transformers import SentenceTransformer\n",
    "\n",
    "similarity_model = SentenceTransformer('paraphrase-multilingual-MiniLM-L12-v2') \n",
    "\n",
    "extractive_rouge = []\n",
    "abstractive_rouge = []\n",
    "extractive_bleu = []\n",
    "abstractive_bleu = []\n",
    "\n",
    "extractive_cosine = []\n",
    "abstractive_cosine = []\n",
    "\n",
    "for human, extr, abstr in tqdm(zip(human_outputs, extractive_outputs, abstractive_outputs), total=len(human_outputs)):\n",
    "    # --- ROUGE-L ---\n",
    "    extractive_rouge.append(rouge_l_score(human, extr))\n",
    "    abstractive_rouge.append(rouge_l_score(human, abstr))\n",
    "\n",
    "    # --- BLEU ---\n",
    "    extractive_bleu.append(bleu_score(human, extr))\n",
    "    abstractive_bleu.append(bleu_score(human, abstr))\n",
    "\n",
    "    # --- Cosine Similarity ---\n",
    "    emb_human = similarity_model.encode(human)\n",
    "    emb_extr = similarity_model.encode(extr)\n",
    "    emb_abstr = similarity_model.encode(abstr)\n",
    "\n",
    "    cosine_extr = cosine_similarity([emb_human], [emb_extr])[0][0]\n",
    "    cosine_abstr = cosine_similarity([emb_human], [emb_abstr])[0][0]\n",
    "\n",
    "    extractive_cosine.append(cosine_extr)\n",
    "    abstractive_cosine.append(cosine_abstr)\n"
   ]
  },
  {
   "cell_type": "code",
   "execution_count": null,
   "id": "80b2031f",
   "metadata": {},
   "outputs": [],
   "source": [
    "df_result = pd.DataFrame({\n",
    "    \"Human_Reference\": human_outputs,\n",
    "    \"Extractive_Output\": extractive_outputs,\n",
    "    \"Abstractive_Output\": abstractive_outputs,\n",
    "    \"Extractive_ROUGE_L\": extractive_rouge,\n",
    "    \"Abstractive_ROUGE_L\": abstractive_rouge,\n",
    "    \"Extractive_BLEU\": extractive_bleu,\n",
    "    \"Abstractive_BLEU\": abstractive_bleu,\n",
    "    \"Extractive_Cosine\": extractive_cosine,\n",
    "    \"Abstractive_Cosine\": abstractive_cosine\n",
    "})\n",
    "\n",
    "\n",
    "df_result.head()"
   ]
  },
  {
   "cell_type": "code",
   "execution_count": null,
   "id": "9e44f0d7",
   "metadata": {},
   "outputs": [],
   "source": [
    "output_save_path = \"Experiment1_Result.xlsx\"\n",
    "df_result.to_excel(output_save_path, index=False)\n",
    "\n",
    "print(f\"\\n✅ All processing done. Result saved to {output_save_path}\")"
   ]
  },
  {
   "cell_type": "code",
   "execution_count": null,
   "id": "e92f2f18",
   "metadata": {},
   "outputs": [],
   "source": [
    "# df.to_excel('output.xlsx', index=False, engine='openpyxl')"
   ]
  },
  {
   "cell_type": "markdown",
   "id": "d41fb40a",
   "metadata": {},
   "source": [
    "## Experiment 2"
   ]
  },
  {
   "cell_type": "code",
   "execution_count": null,
   "id": "cf453a9c",
   "metadata": {},
   "outputs": [],
   "source": [
    "# สร้างข้อความข้อ 2 (Fact) จากข้อ 1 แบบ Fixed Template\n",
    "\n",
    "def create_fixed_fact(input_sec1):\n",
    "    fixed_fact = \"\"\n",
    "    return fixed_fact\n"
   ]
  },
  {
   "cell_type": "code",
   "execution_count": null,
   "id": "4476f1cb",
   "metadata": {},
   "outputs": [],
   "source": [
    "def create_prompt_for_section3(input_sec1, fixed_fact, with_feedback=False):\n",
    "    base_prompt = f\"\"\"\n",
    "<fact>\n",
    "ข้อ ๑: {input_sec1}\n",
    "\n",
    "ข้อ ๒: {fixed_fact}\n",
    "</fact>\n",
    "\n",
    "<instruction>\n",
    "โปรดเขียนข้อเสนอหรือสั่งการ (ข้อ ๓) โดยปฏิบัติตามแนวทางต่อไปนี้:\n",
    "- ลำดับเป็นข้อ ๆ: 2.1, 2.2, 2.3\n",
    "- ห้ามเกิน 3 ข้อ\n",
    "- แต่ละข้อเป็นประโยคคำสั่งสั้น ๆ (1–2 บรรทัด)\n",
    "- ใช้ภาษาราชการที่สุภาพ และสอดคล้องกับข้อ ๑ และข้อ ๒\n",
    "- ห้ามมีข้อความสรุปท้าย\n",
    "</instruction>\n",
    "\"\"\"\n",
    "\n",
    "    if with_feedback:\n",
    "        feedback_example = \"\"\"\n",
    "<example>\n",
    "2.1 เรียนเชิญ ผบ.รร.ชท. หรือผู้แทนเข้าร่วมพิธีเปิดฯ ตามข้อ 1\n",
    "2.2 กสน.ฯ จัดรถรับ-ส่ง เข้าร่วมพิธีเปิดฯ\n",
    "2.3 ผธก.ฯ บันทึกลงระบบสารบรรณอิเล็กทรอนิกส์ (ECM) ให้หน่วยที่เกี่ยวข้องดำเนินการต่อไป\n",
    "</example>\n",
    "\"\"\"\n",
    "        base_prompt = feedback_example.strip() + \"\\n\" + base_prompt.strip()\n",
    "\n",
    "    return base_prompt.strip()\n"
   ]
  },
  {
   "cell_type": "code",
   "execution_count": null,
   "id": "130c84b8",
   "metadata": {},
   "outputs": [],
   "source": [
    "import numpy as np\n",
    "\n",
    "def generate_best_section3(input_sec1, human_reference_section3, with_feedback=False):\n",
    "    \"\"\"\n",
    "    Generate ข้อ 3 และคืนค่า: (Best Summary, Best Score)\n",
    "    \"\"\"\n",
    "    # ✅ สร้างข้อ 2 จากข้อ 1\n",
    "    fixed_fact = create_fixed_fact(input_sec1)\n",
    "\n",
    "    # ✅ เตรียม Prompt\n",
    "    prompt = create_prompt_for_section3(input_sec1, fixed_fact, with_feedback=with_feedback)\n",
    "\n",
    "    generated_texts = []\n",
    "    scores = []\n",
    "\n",
    "    for _ in range(3):  # ยิง 3 ครั้ง\n",
    "        gen_text = query_ollama_chat(prompt)\n",
    "        if gen_text:\n",
    "            generated_texts.append(gen_text)\n",
    "            emb_human = similarity_model.encode(human_reference_section3)\n",
    "            emb_generated = similarity_model.encode(gen_text)\n",
    "            score = cosine_similarity([emb_human], [emb_generated])[0][0]\n",
    "            scores.append(score)\n",
    "\n",
    "    if not generated_texts:\n",
    "        return \"\", 0.0\n",
    "\n",
    "    best_idx = np.argmax(scores)\n",
    "    best_text = generated_texts[best_idx]\n",
    "    best_score = scores[best_idx]\n",
    "\n",
    "    # (Optional) Postprocess\n",
    "    # polished_text = rewrite_summary_wangchan(best_text)\n",
    "\n",
    "    return best_text, best_score\n"
   ]
  },
  {
   "cell_type": "code",
   "execution_count": null,
   "id": "626c2ec1",
   "metadata": {},
   "outputs": [],
   "source": [
    "# ตัวอย่างสมมติ\n",
    "input_sec1 = \"ยบ.ทหาร (สนพ.ยบ.ทหาร) กําหนดพิธีเปิดการฝึกอบรมหลักสูตรนายทหารประทวน สายวิทยาการแพทย์ รุ่นที่ 3 ประจําปีงบประมาณ พ.ศ. 2568 ในวันพุธที่ 5 พ.ย. 67 เวลา 1300 ณ ห้องประชุม หทัยนเรศ ชั้น 2 สนพ.ยบ.ทหาร (บางซ่อน) โดยมี จก.ยบ.ทหาร เป็นประธานฯ การแต่งกาย เครื่องแบบปกติ คอพับแขนยาว (ทอ. อินทรธนูแข็ง) งดหมวก\"\n",
    "\n",
    "human_reference_section3 = \"\" \\\n",
    "\"2.1 เรียนเชิญ ผบ.รร.ชท. หรือผู้แทนเข้าร่วมพิธีเปิดฯ ตามข้อ 1\"\n",
    "\"2.2 กสน.ฯ จัดรถรับ-ส่ง เข้าร่วมพิธีเปิดฯ\"\n",
    "\"2.3 ผธก.ฯ บันทึกลงระบบสารบรรณอิเล็กทรอนิกส์ (ECM) ให้หน่วยที่เกี่ยวข้องดําเนินการต่อไป\" \\\n",
    "\"\"\n",
    "\n",
    "# ✅ Generate แบบมี Feedback Correction\n",
    "section3_with_feedback, score_with_feedback = generate_best_section3(\n",
    "    input_sec1, human_reference_section3, with_feedback=True\n",
    ")\n",
    "\n",
    "# ✅ Generate แบบไม่มี Feedback Correction\n",
    "section3_without_feedback, score_without_feedback = generate_best_section3(\n",
    "    input_sec1, human_reference_section3, with_feedback=False\n",
    ")\n",
    "\n",
    "\n",
    "# ✅ ดูผล\n",
    "print(\"\\n✅ Section 3 (With Feedback Correction):\")\n",
    "print(section3_with_feedback)\n",
    "print(\"Cosine Similarity:\", score_with_feedback)\n",
    "\n",
    "print(\"\\n✅ Section 3 (Without Feedback Correction):\")\n",
    "print(section3_without_feedback)\n",
    "print(\"Cosine Similarity:\", score_without_feedback)\n"
   ]
  }
 ],
 "metadata": {
  "kernelspec": {
   "display_name": ".venv310",
   "language": "python",
   "name": "python3"
  },
  "language_info": {
   "codemirror_mode": {
    "name": "ipython",
    "version": 3
   },
   "file_extension": ".py",
   "mimetype": "text/x-python",
   "name": "python",
   "nbconvert_exporter": "python",
   "pygments_lexer": "ipython3",
   "version": "3.10.10"
  }
 },
 "nbformat": 4,
 "nbformat_minor": 5
}
